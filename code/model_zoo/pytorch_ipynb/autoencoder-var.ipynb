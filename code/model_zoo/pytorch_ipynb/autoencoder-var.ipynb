{
 "cells": [
  {
   "cell_type": "markdown",
   "metadata": {},
   "source": [
    "*Accompanying code examples of the book \"Introduction to Artificial Neural Networks and Deep Learning: A Practical Guide with Applications in Python\" by [Sebastian Raschka](https://sebastianraschka.com). All code examples are released under the [MIT license](https://github.com/rasbt/deep-learning-book/blob/master/LICENSE). If you find this content useful, please consider supporting the work by buying a [copy of the book](https://leanpub.com/ann-and-deeplearning).*\n",
    "  \n",
    "Other code examples and content are available on [GitHub](https://github.com/rasbt/deep-learning-book). The PDF and ebook versions of the book are available through [Leanpub](https://leanpub.com/ann-and-deeplearning)."
   ]
  },
  {
   "cell_type": "code",
   "execution_count": 1,
   "metadata": {},
   "outputs": [
    {
     "name": "stdout",
     "output_type": "stream",
     "text": [
      "Sebastian Raschka \n",
      "\n",
      "CPython 3.6.6\n",
      "IPython 6.5.0\n",
      "\n",
      "torch 0.4.1\n"
     ]
    }
   ],
   "source": [
    "%load_ext watermark\n",
    "%watermark -a 'Sebastian Raschka' -v -p torch"
   ]
  },
  {
   "cell_type": "markdown",
   "metadata": {},
   "source": [
    "- Runs on CPU or GPU (if available)"
   ]
  },
  {
   "cell_type": "markdown",
   "metadata": {},
   "source": [
    "# Model Zoo -- Variational Autoencoder"
   ]
  },
  {
   "cell_type": "markdown",
   "metadata": {},
   "source": [
    "A simple variational autoencoder that compresses 768-pixel MNIST images down to a 15-pixel latent vector representation."
   ]
  },
  {
   "cell_type": "markdown",
   "metadata": {},
   "source": [
    "## Imports"
   ]
  },
  {
   "cell_type": "code",
   "execution_count": 2,
   "metadata": {},
   "outputs": [],
   "source": [
    "import numpy as np\n",
    "import torch\n",
    "import torch.nn.functional as F\n",
    "from torch.utils.data import DataLoader\n",
    "from torchvision import datasets\n",
    "from torchvision import transforms"
   ]
  },
  {
   "cell_type": "code",
   "execution_count": 3,
   "metadata": {},
   "outputs": [
    {
     "name": "stdout",
     "output_type": "stream",
     "text": [
      "Device: cpu\n",
      "Image batch dimensions: torch.Size([128, 1, 28, 28])\n",
      "Image label dimensions: torch.Size([128])\n"
     ]
    }
   ],
   "source": [
    "##########################\n",
    "### SETTINGS\n",
    "##########################\n",
    "\n",
    "# Device\n",
    "device = torch.device(\"cuda:0\" if torch.cuda.is_available() else \"cpu\")\n",
    "print('Device:', device)\n",
    "\n",
    "# Hyperparameters\n",
    "random_seed = 0\n",
    "learning_rate = 0.001\n",
    "num_epochs = 10\n",
    "batch_size = 128\n",
    "\n",
    "# Architecture\n",
    "num_features = 784\n",
    "num_hidden_1 = 500\n",
    "num_latent = 15\n",
    "\n",
    "\n",
    "##########################\n",
    "### MNIST DATASET\n",
    "##########################\n",
    "\n",
    "# Note transforms.ToTensor() scales input images\n",
    "# to 0-1 range\n",
    "train_dataset = datasets.MNIST(root='data', \n",
    "                               train=True, \n",
    "                               transform=transforms.ToTensor(),\n",
    "                               download=True)\n",
    "\n",
    "test_dataset = datasets.MNIST(root='data', \n",
    "                              train=False, \n",
    "                              transform=transforms.ToTensor())\n",
    "\n",
    "\n",
    "train_loader = DataLoader(dataset=train_dataset, \n",
    "                          batch_size=batch_size, \n",
    "                          shuffle=True)\n",
    "\n",
    "test_loader = DataLoader(dataset=test_dataset, \n",
    "                         batch_size=batch_size, \n",
    "                         shuffle=False)\n",
    "\n",
    "# Checking the dataset\n",
    "for images, labels in train_loader:  \n",
    "    print('Image batch dimensions:', images.shape)\n",
    "    print('Image label dimensions:', labels.shape)\n",
    "    break"
   ]
  },
  {
   "cell_type": "markdown",
   "metadata": {},
   "source": [
    "## Model"
   ]
  },
  {
   "cell_type": "code",
   "execution_count": 4,
   "metadata": {},
   "outputs": [],
   "source": [
    "##########################\n",
    "### MODEL\n",
    "##########################\n",
    "\n",
    "class VariationalAutoencoder(torch.nn.Module):\n",
    "\n",
    "    def __init__(self, num_features, num_hidden_1, num_latent):\n",
    "        super(VariationalAutoencoder, self).__init__()\n",
    "        \n",
    "        ### ENCODER\n",
    "        self.hidden_1 = torch.nn.Linear(num_features, num_hidden_1)\n",
    "        self.z_mean = torch.nn.Linear(num_hidden_1, num_latent)\n",
    "        # in the original paper (Kingma & Welling 2015, we use\n",
    "        # have a z_mean and z_var, but the problem is that\n",
    "        # the z_var can be negative, which would cause issues\n",
    "        # in the log later. Hence we assume that latent vector\n",
    "        # has a z_mean and z_log_var component, and when we need\n",
    "        # the regular variance or std_dev, we simply use \n",
    "        # an exponential function\n",
    "        self.z_log_var = torch.nn.Linear(num_hidden_1, num_latent)\n",
    "        \n",
    "        \n",
    "        ### DECODER\n",
    "        self.linear_3 = torch.nn.Linear(num_latent, num_hidden_1)\n",
    "        self.linear_4 = torch.nn.Linear(num_hidden_1, num_features)\n",
    "\n",
    "    def reparameterize(self, z_mu, z_log_var):\n",
    "        # Sample epsilon from standard normal distribution\n",
    "        eps = torch.randn(z_mu.size(0), z_mu.size(1)).to(device)\n",
    "        # note that log(x^2) = 2*log(x); hence divide by 2 to get std_dev\n",
    "        # i.e., std_dev = exp(log(std_dev^2)/2) = exp(log(var)/2)\n",
    "        z = z_mu + eps * torch.exp(z_log_var/2.) \n",
    "        return z\n",
    "        \n",
    "\n",
    "    def forward(self, x):\n",
    "        \n",
    "        ### ENCODER\n",
    "        x = self.hidden_1(x)\n",
    "        x = torch.relu(x)\n",
    "        z_mean = self.z_mean(x)\n",
    "        z_log_var = self.z_log_var(x)\n",
    "        encoded = self.reparameterize(z_mean, z_log_var)\n",
    "        \n",
    "        ### DECODER\n",
    "        x = self.linear_3(encoded)\n",
    "        x = torch.relu(x)\n",
    "        x = self.linear_4(x)\n",
    "        decoded = torch.sigmoid(x)\n",
    "        \n",
    "        return z_mean, z_log_var, encoded, decoded\n",
    "\n",
    "    \n",
    "torch.manual_seed(random_seed)\n",
    "model = VariationalAutoencoder(num_features,\n",
    "                               num_hidden_1,\n",
    "                               num_latent)\n",
    "model = model.to(device)\n",
    "    \n",
    "\n",
    "##########################\n",
    "### COST AND OPTIMIZER\n",
    "##########################\n",
    "\n",
    "optimizer = torch.optim.Adam(model.parameters(), lr=learning_rate)  "
   ]
  },
  {
   "cell_type": "markdown",
   "metadata": {},
   "source": [
    "## Training"
   ]
  },
  {
   "cell_type": "code",
   "execution_count": 5,
   "metadata": {},
   "outputs": [
    {
     "name": "stdout",
     "output_type": "stream",
     "text": [
      "Epoch: 001/010 | Batch 000/468 | Cost: 70481.8125\n",
      "Epoch: 001/010 | Batch 050/468 | Cost: 27146.9219\n",
      "Epoch: 001/010 | Batch 100/468 | Cost: 22859.7598\n",
      "Epoch: 001/010 | Batch 150/468 | Cost: 19510.0430\n",
      "Epoch: 001/010 | Batch 200/468 | Cost: 18704.0195\n",
      "Epoch: 001/010 | Batch 250/468 | Cost: 18069.9473\n",
      "Epoch: 001/010 | Batch 300/468 | Cost: 16594.4922\n",
      "Epoch: 001/010 | Batch 350/468 | Cost: 17122.4414\n",
      "Epoch: 001/010 | Batch 400/468 | Cost: 16351.7324\n",
      "Epoch: 001/010 | Batch 450/468 | Cost: 16084.5723\n",
      "Epoch: 002/010 | Batch 000/468 | Cost: 16499.2227\n",
      "Epoch: 002/010 | Batch 050/468 | Cost: 15445.9414\n",
      "Epoch: 002/010 | Batch 100/468 | Cost: 15671.0430\n",
      "Epoch: 002/010 | Batch 150/468 | Cost: 15693.4082\n",
      "Epoch: 002/010 | Batch 200/468 | Cost: 15130.2119\n",
      "Epoch: 002/010 | Batch 250/468 | Cost: 15331.6133\n",
      "Epoch: 002/010 | Batch 300/468 | Cost: 15388.3457\n",
      "Epoch: 002/010 | Batch 350/468 | Cost: 15606.9688\n",
      "Epoch: 002/010 | Batch 400/468 | Cost: 14795.2617\n",
      "Epoch: 002/010 | Batch 450/468 | Cost: 15052.8125\n",
      "Epoch: 003/010 | Batch 000/468 | Cost: 14456.6279\n",
      "Epoch: 003/010 | Batch 050/468 | Cost: 14486.2197\n",
      "Epoch: 003/010 | Batch 100/468 | Cost: 14376.0654\n",
      "Epoch: 003/010 | Batch 150/468 | Cost: 13909.8262\n",
      "Epoch: 003/010 | Batch 200/468 | Cost: 15080.1143\n",
      "Epoch: 003/010 | Batch 250/468 | Cost: 14662.3477\n",
      "Epoch: 003/010 | Batch 300/468 | Cost: 14319.5352\n",
      "Epoch: 003/010 | Batch 350/468 | Cost: 14325.1680\n",
      "Epoch: 003/010 | Batch 400/468 | Cost: 14484.0879\n",
      "Epoch: 003/010 | Batch 450/468 | Cost: 13727.2344\n",
      "Epoch: 004/010 | Batch 000/468 | Cost: 15010.1865\n",
      "Epoch: 004/010 | Batch 050/468 | Cost: 14288.9805\n",
      "Epoch: 004/010 | Batch 100/468 | Cost: 14766.4268\n",
      "Epoch: 004/010 | Batch 150/468 | Cost: 15473.4385\n",
      "Epoch: 004/010 | Batch 200/468 | Cost: 14144.9111\n",
      "Epoch: 004/010 | Batch 250/468 | Cost: 14337.2090\n",
      "Epoch: 004/010 | Batch 300/468 | Cost: 13867.4434\n",
      "Epoch: 004/010 | Batch 350/468 | Cost: 14360.2031\n",
      "Epoch: 004/010 | Batch 400/468 | Cost: 14099.2090\n",
      "Epoch: 004/010 | Batch 450/468 | Cost: 13595.3633\n",
      "Epoch: 005/010 | Batch 000/468 | Cost: 14034.1943\n",
      "Epoch: 005/010 | Batch 050/468 | Cost: 14258.8730\n",
      "Epoch: 005/010 | Batch 100/468 | Cost: 13983.2578\n",
      "Epoch: 005/010 | Batch 150/468 | Cost: 13951.3398\n",
      "Epoch: 005/010 | Batch 200/468 | Cost: 13889.7500\n",
      "Epoch: 005/010 | Batch 250/468 | Cost: 14415.5596\n",
      "Epoch: 005/010 | Batch 300/468 | Cost: 14560.2646\n",
      "Epoch: 005/010 | Batch 350/468 | Cost: 13692.9434\n",
      "Epoch: 005/010 | Batch 400/468 | Cost: 13617.0615\n",
      "Epoch: 005/010 | Batch 450/468 | Cost: 13603.0947\n",
      "Epoch: 006/010 | Batch 000/468 | Cost: 13993.0703\n",
      "Epoch: 006/010 | Batch 050/468 | Cost: 13914.6846\n",
      "Epoch: 006/010 | Batch 100/468 | Cost: 14290.5645\n",
      "Epoch: 006/010 | Batch 150/468 | Cost: 13393.9082\n",
      "Epoch: 006/010 | Batch 200/468 | Cost: 13784.5645\n",
      "Epoch: 006/010 | Batch 250/468 | Cost: 14129.2656\n",
      "Epoch: 006/010 | Batch 300/468 | Cost: 12918.0547\n",
      "Epoch: 006/010 | Batch 350/468 | Cost: 13449.0117\n",
      "Epoch: 006/010 | Batch 400/468 | Cost: 13380.4131\n",
      "Epoch: 006/010 | Batch 450/468 | Cost: 13523.5332\n",
      "Epoch: 007/010 | Batch 000/468 | Cost: 13918.4102\n",
      "Epoch: 007/010 | Batch 050/468 | Cost: 13687.5342\n",
      "Epoch: 007/010 | Batch 100/468 | Cost: 14122.7832\n",
      "Epoch: 007/010 | Batch 150/468 | Cost: 14027.6582\n",
      "Epoch: 007/010 | Batch 200/468 | Cost: 13771.2705\n",
      "Epoch: 007/010 | Batch 250/468 | Cost: 14277.7656\n",
      "Epoch: 007/010 | Batch 300/468 | Cost: 13200.1670\n",
      "Epoch: 007/010 | Batch 350/468 | Cost: 14154.0205\n",
      "Epoch: 007/010 | Batch 400/468 | Cost: 13769.4863\n",
      "Epoch: 007/010 | Batch 450/468 | Cost: 13858.7314\n",
      "Epoch: 008/010 | Batch 000/468 | Cost: 13514.7715\n",
      "Epoch: 008/010 | Batch 050/468 | Cost: 13555.5889\n",
      "Epoch: 008/010 | Batch 100/468 | Cost: 13886.4492\n",
      "Epoch: 008/010 | Batch 150/468 | Cost: 13127.3242\n",
      "Epoch: 008/010 | Batch 200/468 | Cost: 13139.9717\n",
      "Epoch: 008/010 | Batch 250/468 | Cost: 13479.3564\n",
      "Epoch: 008/010 | Batch 300/468 | Cost: 13791.8242\n",
      "Epoch: 008/010 | Batch 350/468 | Cost: 13885.2812\n",
      "Epoch: 008/010 | Batch 400/468 | Cost: 14073.8037\n",
      "Epoch: 008/010 | Batch 450/468 | Cost: 13274.2266\n",
      "Epoch: 009/010 | Batch 000/468 | Cost: 13659.2764\n",
      "Epoch: 009/010 | Batch 050/468 | Cost: 13811.9092\n",
      "Epoch: 009/010 | Batch 100/468 | Cost: 13800.9492\n",
      "Epoch: 009/010 | Batch 150/468 | Cost: 14589.9609\n",
      "Epoch: 009/010 | Batch 200/468 | Cost: 13811.3887\n",
      "Epoch: 009/010 | Batch 250/468 | Cost: 13685.2598\n",
      "Epoch: 009/010 | Batch 300/468 | Cost: 13637.0068\n",
      "Epoch: 009/010 | Batch 350/468 | Cost: 13473.9023\n",
      "Epoch: 009/010 | Batch 400/468 | Cost: 14447.7168\n",
      "Epoch: 009/010 | Batch 450/468 | Cost: 13594.1357\n",
      "Epoch: 010/010 | Batch 000/468 | Cost: 13934.1543\n",
      "Epoch: 010/010 | Batch 050/468 | Cost: 13665.6543\n",
      "Epoch: 010/010 | Batch 100/468 | Cost: 13486.7744\n",
      "Epoch: 010/010 | Batch 150/468 | Cost: 13741.8516\n",
      "Epoch: 010/010 | Batch 200/468 | Cost: 13756.8594\n",
      "Epoch: 010/010 | Batch 250/468 | Cost: 13456.7051\n",
      "Epoch: 010/010 | Batch 300/468 | Cost: 13363.3691\n",
      "Epoch: 010/010 | Batch 350/468 | Cost: 13264.2471\n",
      "Epoch: 010/010 | Batch 400/468 | Cost: 13016.2666\n",
      "Epoch: 010/010 | Batch 450/468 | Cost: 13039.0410\n"
     ]
    }
   ],
   "source": [
    "for epoch in range(num_epochs):\n",
    "    for batch_idx, (features, targets) in enumerate(train_loader):\n",
    "        \n",
    "        # don't need labels, only the images (features)\n",
    "        features = features.view(-1, 28*28).to(device)\n",
    "\n",
    "        ### FORWARD AND BACK PROP\n",
    "        z_mean, z_log_var, encoded, decoded = model(features)\n",
    "\n",
    "        # cost = reconstruction loss + Kullback-Leibler divergence\n",
    "        kl_divergence = (0.5 * (z_mean**2 + \n",
    "                                torch.exp(z_log_var) - z_log_var - 1)).sum()\n",
    "        pixelwise_bce = F.binary_cross_entropy(decoded, features, reduction='sum')\n",
    "        cost = kl_divergence + pixelwise_bce\n",
    "        \n",
    "        optimizer.zero_grad()\n",
    "        cost.backward()\n",
    "        \n",
    "        ### UPDATE MODEL PARAMETERS\n",
    "        optimizer.step()\n",
    "        \n",
    "        ### LOGGING\n",
    "        if not batch_idx % 50:\n",
    "            print ('Epoch: %03d/%03d | Batch %03d/%03d | Cost: %.4f' \n",
    "                   %(epoch+1, num_epochs, batch_idx, \n",
    "                     len(train_dataset)//batch_size, cost))"
   ]
  },
  {
   "cell_type": "markdown",
   "metadata": {},
   "source": [
    "## Evaluation"
   ]
  },
  {
   "cell_type": "code",
   "execution_count": 6,
   "metadata": {},
   "outputs": [
    {
     "data": {
      "image/png": "[encoded data removed]",
      "text/plain": [
       "<Figure size 1440x180 with 30 Axes>"
      ]
     },
     "metadata": {
      "needs_background": "light"
     },
     "output_type": "display_data"
    }
   ],
   "source": [
    "%matplotlib inline\n",
    "import matplotlib.pyplot as plt\n",
    "\n",
    "##########################\n",
    "### VISUALIZATION\n",
    "##########################\n",
    "\n",
    "n_images = 15\n",
    "image_width = 28\n",
    "\n",
    "fig, axes = plt.subplots(nrows=2, ncols=n_images, \n",
    "                         sharex=True, sharey=True, figsize=(20, 2.5))\n",
    "orig_images = features[:n_images]\n",
    "decoded_images = decoded[:n_images]\n",
    "\n",
    "for i in range(n_images):\n",
    "    for ax, img in zip(axes, [orig_images, decoded_images]):\n",
    "        ax[i].imshow(img[i].detach().reshape((image_width, image_width)), cmap='binary')"
   ]
  }
 ],
 "metadata": {
  "kernelspec": {
   "display_name": "Python 3",
   "language": "python",
   "name": "python3"
  },
  "language_info": {
   "codemirror_mode": {
    "name": "ipython",
    "version": 3
   },
   "file_extension": ".py",
   "mimetype": "text/x-python",
   "name": "python",
   "nbconvert_exporter": "python",
   "pygments_lexer": "ipython3",
   "version": "3.6.6"
  },
  "toc": {
   "nav_menu": {},
   "number_sections": true,
   "sideBar": true,
   "skip_h1_title": false,
   "title_cell": "Table of Contents",
   "title_sidebar": "Contents",
   "toc_cell": false,
   "toc_position": {},
   "toc_section_display": true,
   "toc_window_display": false
  }
 },
 "nbformat": 4,
 "nbformat_minor": 2
}
