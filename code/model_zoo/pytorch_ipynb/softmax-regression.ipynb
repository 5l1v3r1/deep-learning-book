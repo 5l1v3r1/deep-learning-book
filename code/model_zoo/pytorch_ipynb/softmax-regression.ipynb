{
 "cells": [
  {
   "cell_type": "markdown",
   "metadata": {},
   "source": [
    "*Accompanying code examples of the book \"Introduction to Artificial Neural Networks and Deep Learning: A Practical Guide with Applications in Python\" by [Sebastian Raschka](https://sebastianraschka.com). All code examples are released under the [MIT license](https://github.com/rasbt/deep-learning-book/blob/master/LICENSE). If you find this content useful, please consider supporting the work by buying a [copy of the book](https://leanpub.com/ann-and-deeplearning).*\n",
    "  \n",
    "Other code examples and content are available on [GitHub](https://github.com/rasbt/deep-learning-book). The PDF and ebook versions of the book are available through [Leanpub](https://leanpub.com/ann-and-deeplearning)."
   ]
  },
  {
   "cell_type": "code",
   "execution_count": 1,
   "metadata": {},
   "outputs": [
    {
     "name": "stdout",
     "output_type": "stream",
     "text": [
      "Sebastian Raschka \n",
      "\n",
      "CPython 3.6.3\n",
      "IPython 6.2.1\n",
      "\n",
      "torch 0.3.0.post4\n"
     ]
    }
   ],
   "source": [
    "%load_ext watermark\n",
    "%watermark -a 'Sebastian Raschka' -v -p torch"
   ]
  },
  {
   "cell_type": "markdown",
   "metadata": {},
   "source": [
    "# Model Zoo -- Softmax Regression"
   ]
  },
  {
   "cell_type": "markdown",
   "metadata": {},
   "source": [
    "Implementation of softmax regression (multinomial logistic regression)."
   ]
  },
  {
   "cell_type": "code",
   "execution_count": 2,
   "metadata": {},
   "outputs": [
    {
     "name": "stdout",
     "output_type": "stream",
     "text": [
      "Image batch dimensions: torch.Size([256, 1, 28, 28])\n",
      "Image label dimensions: torch.Size([256])\n"
     ]
    }
   ],
   "source": [
    "from torchvision import datasets\n",
    "from torchvision import transforms\n",
    "from torch.utils.data import DataLoader\n",
    "import torch\n",
    "\n",
    "\n",
    "##########################\n",
    "### SETTINGS\n",
    "##########################\n",
    "\n",
    "# Hyperparameters\n",
    "learning_rate = 0.5\n",
    "num_epochs = 15\n",
    "batch_size = 256\n",
    "\n",
    "# Architecture\n",
    "num_features = 784\n",
    "num_classes = 10\n",
    "\n",
    "\n",
    "##########################\n",
    "### MNIST DATASET\n",
    "##########################\n",
    "\n",
    "train_dataset = datasets.MNIST(root='data', \n",
    "                               train=True, \n",
    "                               transform=transforms.ToTensor(),  \n",
    "                               download=True)\n",
    "\n",
    "test_dataset = datasets.MNIST(root='data', \n",
    "                              train=False, \n",
    "                              transform=transforms.ToTensor())\n",
    "\n",
    "\n",
    "train_loader = DataLoader(dataset=train_dataset, \n",
    "                          batch_size=batch_size, \n",
    "                          shuffle=True)\n",
    "\n",
    "test_loader = DataLoader(dataset=test_dataset, \n",
    "                         batch_size=batch_size, \n",
    "                         shuffle=False)\n",
    "\n",
    "\n",
    "# Checking the dataset\n",
    "for images, labels in train_loader:  \n",
    "    print('Image batch dimensions:', images.shape)\n",
    "    print('Image label dimensions:', labels.shape)\n",
    "    break"
   ]
  },
  {
   "cell_type": "code",
   "execution_count": 3,
   "metadata": {},
   "outputs": [],
   "source": [
    "##########################\n",
    "### MODEL\n",
    "##########################\n",
    "\n",
    "class SoftmaxRegression(torch.nn.Module):\n",
    "\n",
    "    def __init__(self, num_features, num_classes):\n",
    "        super(SoftmaxRegression, self).__init__()\n",
    "        self.linear = torch.nn.Linear(num_features, num_classes)\n",
    "        self.linear.weight.data.zero_()\n",
    "        self.linear.bias.data.zero_()\n",
    "        \n",
    "    def forward(self, x):\n",
    "        logits = self.linear(x)\n",
    "        probas = F.softmax(logits, dim=1)\n",
    "        return probas\n",
    "\n",
    "model = SoftmaxRegression(num_features=num_features,\n",
    "                          num_classes=num_classes)\n",
    "\n",
    "if torch.cuda.is_available():\n",
    "    model.cuda()\n",
    "    \n",
    "    \n",
    "\n",
    "##########################\n",
    "### COST AND OPTIMIZER\n",
    "##########################\n",
    "\n",
    "cost_fn = torch.nn.CrossEntropyLoss()  \n",
    "optimizer = torch.optim.SGD(model.parameters(), lr=learning_rate)  "
   ]
  },
  {
   "cell_type": "code",
   "execution_count": 4,
   "metadata": {},
   "outputs": [
    {
     "name": "stdout",
     "output_type": "stream",
     "text": [
      "Epoch: 001/015 | Batch 000/234 | Cost: 2.3026\n",
      "Epoch: 001/015 | Batch 050/234 | Cost: 1.8654\n",
      "Epoch: 001/015 | Batch 100/234 | Cost: 1.7183\n",
      "Epoch: 001/015 | Batch 150/234 | Cost: 1.7291\n",
      "Epoch: 001/015 | Batch 200/234 | Cost: 1.6739\n",
      "Epoch: 001/015 training accuracy: 83.30%\n",
      "Epoch: 002/015 | Batch 000/234 | Cost: 1.7212\n",
      "Epoch: 002/015 | Batch 050/234 | Cost: 1.6583\n",
      "Epoch: 002/015 | Batch 100/234 | Cost: 1.6509\n",
      "Epoch: 002/015 | Batch 150/234 | Cost: 1.6339\n",
      "Epoch: 002/015 | Batch 200/234 | Cost: 1.6067\n",
      "Epoch: 002/015 training accuracy: 88.82%\n",
      "Epoch: 003/015 | Batch 000/234 | Cost: 1.6111\n",
      "Epoch: 003/015 | Batch 050/234 | Cost: 1.6172\n",
      "Epoch: 003/015 | Batch 100/234 | Cost: 1.6159\n",
      "Epoch: 003/015 | Batch 150/234 | Cost: 1.5805\n",
      "Epoch: 003/015 | Batch 200/234 | Cost: 1.5983\n",
      "Epoch: 003/015 training accuracy: 89.58%\n",
      "Epoch: 004/015 | Batch 000/234 | Cost: 1.5921\n",
      "Epoch: 004/015 | Batch 050/234 | Cost: 1.6097\n",
      "Epoch: 004/015 | Batch 100/234 | Cost: 1.5874\n",
      "Epoch: 004/015 | Batch 150/234 | Cost: 1.5820\n",
      "Epoch: 004/015 | Batch 200/234 | Cost: 1.6066\n",
      "Epoch: 004/015 training accuracy: 90.11%\n",
      "Epoch: 005/015 | Batch 000/234 | Cost: 1.5866\n",
      "Epoch: 005/015 | Batch 050/234 | Cost: 1.5969\n",
      "Epoch: 005/015 | Batch 100/234 | Cost: 1.5874\n",
      "Epoch: 005/015 | Batch 150/234 | Cost: 1.5817\n",
      "Epoch: 005/015 | Batch 200/234 | Cost: 1.5831\n",
      "Epoch: 005/015 training accuracy: 90.45%\n",
      "Epoch: 006/015 | Batch 000/234 | Cost: 1.5876\n",
      "Epoch: 006/015 | Batch 050/234 | Cost: 1.5792\n",
      "Epoch: 006/015 | Batch 100/234 | Cost: 1.6006\n",
      "Epoch: 006/015 | Batch 150/234 | Cost: 1.5694\n",
      "Epoch: 006/015 | Batch 200/234 | Cost: 1.5815\n",
      "Epoch: 006/015 training accuracy: 90.70%\n",
      "Epoch: 007/015 | Batch 000/234 | Cost: 1.5875\n",
      "Epoch: 007/015 | Batch 050/234 | Cost: 1.5432\n",
      "Epoch: 007/015 | Batch 100/234 | Cost: 1.5871\n",
      "Epoch: 007/015 | Batch 150/234 | Cost: 1.5811\n",
      "Epoch: 007/015 | Batch 200/234 | Cost: 1.5842\n",
      "Epoch: 007/015 training accuracy: 90.90%\n",
      "Epoch: 008/015 | Batch 000/234 | Cost: 1.5609\n",
      "Epoch: 008/015 | Batch 050/234 | Cost: 1.5806\n",
      "Epoch: 008/015 | Batch 100/234 | Cost: 1.5854\n",
      "Epoch: 008/015 | Batch 150/234 | Cost: 1.5966\n",
      "Epoch: 008/015 | Batch 200/234 | Cost: 1.5597\n",
      "Epoch: 008/015 training accuracy: 91.04%\n",
      "Epoch: 009/015 | Batch 000/234 | Cost: 1.5746\n",
      "Epoch: 009/015 | Batch 050/234 | Cost: 1.5562\n",
      "Epoch: 009/015 | Batch 100/234 | Cost: 1.5523\n",
      "Epoch: 009/015 | Batch 150/234 | Cost: 1.5620\n",
      "Epoch: 009/015 | Batch 200/234 | Cost: 1.5581\n",
      "Epoch: 009/015 training accuracy: 91.17%\n",
      "Epoch: 010/015 | Batch 000/234 | Cost: 1.5699\n",
      "Epoch: 010/015 | Batch 050/234 | Cost: 1.5656\n",
      "Epoch: 010/015 | Batch 100/234 | Cost: 1.5742\n",
      "Epoch: 010/015 | Batch 150/234 | Cost: 1.5531\n",
      "Epoch: 010/015 | Batch 200/234 | Cost: 1.5591\n",
      "Epoch: 010/015 training accuracy: 91.32%\n",
      "Epoch: 011/015 | Batch 000/234 | Cost: 1.5704\n",
      "Epoch: 011/015 | Batch 050/234 | Cost: 1.5437\n",
      "Epoch: 011/015 | Batch 100/234 | Cost: 1.5840\n",
      "Epoch: 011/015 | Batch 150/234 | Cost: 1.5739\n",
      "Epoch: 011/015 | Batch 200/234 | Cost: 1.5570\n",
      "Epoch: 011/015 training accuracy: 91.35%\n",
      "Epoch: 012/015 | Batch 000/234 | Cost: 1.5786\n",
      "Epoch: 012/015 | Batch 050/234 | Cost: 1.5491\n",
      "Epoch: 012/015 | Batch 100/234 | Cost: 1.5810\n",
      "Epoch: 012/015 | Batch 150/234 | Cost: 1.5788\n",
      "Epoch: 012/015 | Batch 200/234 | Cost: 1.5532\n",
      "Epoch: 012/015 training accuracy: 91.48%\n",
      "Epoch: 013/015 | Batch 000/234 | Cost: 1.5797\n",
      "Epoch: 013/015 | Batch 050/234 | Cost: 1.5599\n",
      "Epoch: 013/015 | Batch 100/234 | Cost: 1.5572\n",
      "Epoch: 013/015 | Batch 150/234 | Cost: 1.5620\n",
      "Epoch: 013/015 | Batch 200/234 | Cost: 1.5674\n",
      "Epoch: 013/015 training accuracy: 91.58%\n",
      "Epoch: 014/015 | Batch 000/234 | Cost: 1.5578\n",
      "Epoch: 014/015 | Batch 050/234 | Cost: 1.5673\n",
      "Epoch: 014/015 | Batch 100/234 | Cost: 1.5488\n",
      "Epoch: 014/015 | Batch 150/234 | Cost: 1.5990\n",
      "Epoch: 014/015 | Batch 200/234 | Cost: 1.5761\n",
      "Epoch: 014/015 training accuracy: 91.65%\n",
      "Epoch: 015/015 | Batch 000/234 | Cost: 1.5499\n",
      "Epoch: 015/015 | Batch 050/234 | Cost: 1.5468\n",
      "Epoch: 015/015 | Batch 100/234 | Cost: 1.5668\n",
      "Epoch: 015/015 | Batch 150/234 | Cost: 1.5545\n",
      "Epoch: 015/015 | Batch 200/234 | Cost: 1.5832\n",
      "Epoch: 015/015 training accuracy: 91.70%\n"
     ]
    }
   ],
   "source": [
    "from torch.autograd import Variable\n",
    "import torch.nn.functional as F\n",
    "\n",
    "torch.manual_seed(0)\n",
    "\n",
    "\n",
    "def compute_accuracy(model, data_loader):\n",
    "    correct_pred, num_examples = 0, 0\n",
    "    for features, targets in data_loader:\n",
    "        features = Variable(features.view(-1, 28*28))\n",
    "        if torch.cuda.is_available():\n",
    "            features.cuda()\n",
    "        outputs = model(features)\n",
    "        _, predicted_probas = torch.max(outputs.data, 1)\n",
    "        num_examples += targets.size(0)\n",
    "        correct_pred += (predicted_probas.cpu() == targets).sum()\n",
    "    return correct_pred/num_examples * 100\n",
    "    \n",
    "\n",
    "for epoch in range(num_epochs):\n",
    "    for batch_idx, (features, targets) in enumerate(train_loader):\n",
    "        \n",
    "        features = Variable(features.view(-1, 28*28))\n",
    "        targets = Variable(targets)\n",
    "        \n",
    "        if torch.cuda.is_available():\n",
    "            features, targets = features.cuda(), targets.cuda()\n",
    "            \n",
    "        ### FORWARD AND BACK PROP\n",
    "        outputs = model(features)\n",
    "        cost = cost_fn(outputs, targets)\n",
    "        optimizer.zero_grad()\n",
    "        cost.backward()\n",
    "        \n",
    "        ### UPDATE MODEL PARAMETERS\n",
    "        optimizer.step()\n",
    "        \n",
    "        ### LOGGING\n",
    "        if not batch_idx % 50:\n",
    "            print ('Epoch: %03d/%03d | Batch %03d/%03d | Cost: %.4f' \n",
    "                   %(epoch+1, num_epochs, batch_idx, \n",
    "                     len(train_dataset)//batch_size, cost.data[0]))\n",
    "            \n",
    "    print('Epoch: %03d/%03d training accuracy: %.2f%%' % (\n",
    "          epoch+1, num_epochs, \n",
    "          compute_accuracy(model, train_loader)))"
   ]
  },
  {
   "cell_type": "code",
   "execution_count": 5,
   "metadata": {},
   "outputs": [
    {
     "name": "stdout",
     "output_type": "stream",
     "text": [
      "Test accuracy: 91.90%\n"
     ]
    }
   ],
   "source": [
    "print('Test accuracy: %.2f%%' % (compute_accuracy(model, test_loader)))"
   ]
  }
 ],
 "metadata": {
  "kernelspec": {
   "display_name": "Python 3",
   "language": "python",
   "name": "python3"
  },
  "language_info": {
   "codemirror_mode": {
    "name": "ipython",
    "version": 3
   },
   "file_extension": ".py",
   "mimetype": "text/x-python",
   "name": "python",
   "nbconvert_exporter": "python",
   "pygments_lexer": "ipython3",
   "version": "3.6.3"
  }
 },
 "nbformat": 4,
 "nbformat_minor": 2
}
