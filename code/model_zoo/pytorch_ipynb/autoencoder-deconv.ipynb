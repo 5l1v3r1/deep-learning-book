{
 "cells": [
  {
   "cell_type": "markdown",
   "metadata": {},
   "source": [
    "*Accompanying code examples of the book \"Introduction to Artificial Neural Networks and Deep Learning: A Practical Guide with Applications in Python\" by [Sebastian Raschka](https://sebastianraschka.com). All code examples are released under the [MIT license](https://github.com/rasbt/deep-learning-book/blob/master/LICENSE). If you find this content useful, please consider supporting the work by buying a [copy of the book](https://leanpub.com/ann-and-deeplearning).*\n",
    "  \n",
    "Other code examples and content are available on [GitHub](https://github.com/rasbt/deep-learning-book). The PDF and ebook versions of the book are available through [Leanpub](https://leanpub.com/ann-and-deeplearning)."
   ]
  },
  {
   "cell_type": "code",
   "execution_count": 1,
   "metadata": {},
   "outputs": [
    {
     "name": "stdout",
     "output_type": "stream",
     "text": [
      "Sebastian Raschka \n",
      "\n",
      "CPython 3.6.3\n",
      "IPython 6.2.1\n",
      "\n",
      "tensorflow 1.5.0-rc1\n"
     ]
    }
   ],
   "source": [
    "%load_ext watermark\n",
    "%watermark -a 'Sebastian Raschka' -v -p tensorflow"
   ]
  },
  {
   "cell_type": "markdown",
   "metadata": {},
   "source": [
    "# Model Zoo -- Convolutional Autoencoder with Deconvolutions"
   ]
  },
  {
   "cell_type": "markdown",
   "metadata": {},
   "source": [
    "A convolutional autoencoder using deconvolutional layers that compresses 768-pixel MNIST images down to a 7x7x8 (392 pixel) representation."
   ]
  },
  {
   "cell_type": "code",
   "execution_count": 2,
   "metadata": {},
   "outputs": [
    {
     "name": "stdout",
     "output_type": "stream",
     "text": [
      "Image batch dimensions: torch.Size([128, 1, 28, 28])\n",
      "Image label dimensions: torch.Size([128])\n"
     ]
    }
   ],
   "source": [
    "from torchvision import datasets\n",
    "from torchvision import transforms\n",
    "from torch.utils.data import DataLoader\n",
    "import torch.nn.functional as F\n",
    "import torch\n",
    "import numpy as np\n",
    "\n",
    "\n",
    "##########################\n",
    "### SETTINGS\n",
    "##########################\n",
    "\n",
    "# Hyperparameters\n",
    "learning_rate = 0.01\n",
    "num_epochs = 5\n",
    "batch_size = 128\n",
    "\n",
    "# Other\n",
    "random_seed = 123\n",
    "\n",
    "\n",
    "##########################\n",
    "### MNIST DATASET\n",
    "##########################\n",
    "\n",
    "# Note transforms.ToTensor() scales input images\n",
    "# to 0-1 range\n",
    "train_dataset = datasets.MNIST(root='data', \n",
    "                               train=True, \n",
    "                               transform=transforms.ToTensor(),\n",
    "                               download=True)\n",
    "\n",
    "test_dataset = datasets.MNIST(root='data', \n",
    "                              train=False, \n",
    "                              transform=transforms.ToTensor())\n",
    "\n",
    "\n",
    "train_loader = DataLoader(dataset=train_dataset, \n",
    "                          batch_size=batch_size, \n",
    "                          shuffle=True)\n",
    "\n",
    "test_loader = DataLoader(dataset=test_dataset, \n",
    "                         batch_size=batch_size, \n",
    "                         shuffle=False)\n",
    "\n",
    "# Checking the dataset\n",
    "for images, labels in train_loader:  \n",
    "    print('Image batch dimensions:', images.shape)\n",
    "    print('Image label dimensions:', labels.shape)\n",
    "    break"
   ]
  },
  {
   "cell_type": "code",
   "execution_count": 3,
   "metadata": {},
   "outputs": [],
   "source": [
    "##########################\n",
    "### MODEL\n",
    "##########################\n",
    "\n",
    "def same_padding(kernel_width, stride):\n",
    "    return (kernel_width - stride) // 2\n",
    "\n",
    "class ConvolutionalAutoencoder(torch.nn.Module):\n",
    "\n",
    "    def __init__(self):\n",
    "        super(ConvolutionalAutoencoder, self).__init__()\n",
    "        \n",
    "        ### ENCODER\n",
    "        \n",
    "        # 28x28x1 => 28x28x4\n",
    "        self.conv_1 = torch.nn.Conv2d(in_channels=1,\n",
    "                                      out_channels=4,\n",
    "                                      kernel_size=(3, 3),\n",
    "                                      stride=(1, 1),\n",
    "                                      padding=same_padding(3, 1))\n",
    "        # 28x28x4 => 14x14x4                              \n",
    "        self.pool_1 = torch.nn.MaxPool2d(kernel_size=(2, 2),\n",
    "                                         stride=(2, 2),\n",
    "                                         padding=same_padding(2, 2))                                       \n",
    "        # 14x14x4 => 14x14x8\n",
    "        self.conv_2 = torch.nn.Conv2d(in_channels=4,\n",
    "                                      out_channels=8,\n",
    "                                      kernel_size=(3, 3),\n",
    "                                      stride=(1, 1),\n",
    "                                      padding=same_padding(3, 1))                 \n",
    "        # 14x14x8 => 7x7x8                             \n",
    "        self.pool_2 = torch.nn.MaxPool2d(kernel_size=(2, 2),\n",
    "                                         stride=(2, 2),\n",
    "                                         padding=same_padding(2, 1))\n",
    "        \n",
    "        ### DECODER\n",
    "                                         \n",
    "        # 7x7x8 => 15x15x4                          \n",
    "        self.deconv_1 = torch.nn.ConvTranspose2d(in_channels=8,\n",
    "                                                 out_channels=4,\n",
    "                                                 kernel_size=(3, 3),\n",
    "                                                 stride=(2, 2),\n",
    "                                                 padding=same_padding(3, 2))\n",
    "        \n",
    "        # 15x15x4  => 31x31x1                           \n",
    "        self.deconv_2 = torch.nn.ConvTranspose2d(in_channels=4,\n",
    "                                                 out_channels=1,\n",
    "                                                 kernel_size=(3, 3),\n",
    "                                                 stride=(2, 2),\n",
    "                                                 padding=same_padding(3, 2))\n",
    "        \n",
    "    def forward(self, x):\n",
    "        \n",
    "        ### ENCODER\n",
    "        x = self.conv_1(x)\n",
    "        x = F.leaky_relu(x)\n",
    "        x = self.pool_1(x)\n",
    "        x = self.conv_2(x)\n",
    "        x = F.leaky_relu(x)\n",
    "        x = self.pool_2(x)\n",
    "        \n",
    "        ### DECODER\n",
    "        x = self.deconv_1(x)\n",
    "        x = F.leaky_relu(x)\n",
    "        x = self.deconv_2(x)\n",
    "        x = F.leaky_relu(x)\n",
    "        x = x[:, :, 2:30, 2:30]\n",
    "        x = F.sigmoid(x)\n",
    "        return x\n",
    "\n",
    "    \n",
    "torch.manual_seed(random_seed)\n",
    "model = ConvolutionalAutoencoder()\n",
    "\n",
    "if torch.cuda.is_available():\n",
    "    model.cuda()\n",
    "    \n",
    "\n",
    "##########################\n",
    "### COST AND OPTIMIZER\n",
    "##########################\n",
    "\n",
    "cost_fn = torch.nn.BCELoss() # torch.nn.MSELoss()\n",
    "optimizer = torch.optim.Adam(model.parameters(), lr=learning_rate)  "
   ]
  },
  {
   "cell_type": "code",
   "execution_count": 4,
   "metadata": {},
   "outputs": [
    {
     "name": "stdout",
     "output_type": "stream",
     "text": [
      "Epoch: 001/005 | Batch 000/468 | Cost: 0.6981\n",
      "Epoch: 001/005 | Batch 050/468 | Cost: 0.6889\n",
      "Epoch: 001/005 | Batch 100/468 | Cost: 0.4108\n",
      "Epoch: 001/005 | Batch 150/468 | Cost: 0.1775\n",
      "Epoch: 001/005 | Batch 200/468 | Cost: 0.1520\n",
      "Epoch: 001/005 | Batch 250/468 | Cost: 0.1308\n",
      "Epoch: 001/005 | Batch 300/468 | Cost: 0.1252\n",
      "Epoch: 001/005 | Batch 350/468 | Cost: 0.1175\n",
      "Epoch: 001/005 | Batch 400/468 | Cost: 0.1124\n",
      "Epoch: 001/005 | Batch 450/468 | Cost: 0.1068\n",
      "Epoch: 002/005 | Batch 000/468 | Cost: 0.1099\n",
      "Epoch: 002/005 | Batch 050/468 | Cost: 0.1042\n",
      "Epoch: 002/005 | Batch 100/468 | Cost: 0.1047\n",
      "Epoch: 002/005 | Batch 150/468 | Cost: 0.1030\n",
      "Epoch: 002/005 | Batch 200/468 | Cost: 0.1027\n",
      "Epoch: 002/005 | Batch 250/468 | Cost: 0.1041\n",
      "Epoch: 002/005 | Batch 300/468 | Cost: 0.1003\n",
      "Epoch: 002/005 | Batch 350/468 | Cost: 0.1019\n",
      "Epoch: 002/005 | Batch 400/468 | Cost: 0.0996\n",
      "Epoch: 002/005 | Batch 450/468 | Cost: 0.0982\n",
      "Epoch: 003/005 | Batch 000/468 | Cost: 0.0948\n",
      "Epoch: 003/005 | Batch 050/468 | Cost: 0.0950\n",
      "Epoch: 003/005 | Batch 100/468 | Cost: 0.0937\n",
      "Epoch: 003/005 | Batch 150/468 | Cost: 0.0922\n",
      "Epoch: 003/005 | Batch 200/468 | Cost: 0.0935\n",
      "Epoch: 003/005 | Batch 250/468 | Cost: 0.0933\n",
      "Epoch: 003/005 | Batch 300/468 | Cost: 0.0957\n",
      "Epoch: 003/005 | Batch 350/468 | Cost: 0.0949\n",
      "Epoch: 003/005 | Batch 400/468 | Cost: 0.0976\n",
      "Epoch: 003/005 | Batch 450/468 | Cost: 0.0892\n",
      "Epoch: 004/005 | Batch 000/468 | Cost: 0.0938\n",
      "Epoch: 004/005 | Batch 050/468 | Cost: 0.0920\n",
      "Epoch: 004/005 | Batch 100/468 | Cost: 0.0908\n",
      "Epoch: 004/005 | Batch 150/468 | Cost: 0.0882\n",
      "Epoch: 004/005 | Batch 200/468 | Cost: 0.0879\n",
      "Epoch: 004/005 | Batch 250/468 | Cost: 0.0925\n",
      "Epoch: 004/005 | Batch 300/468 | Cost: 0.0867\n",
      "Epoch: 004/005 | Batch 350/468 | Cost: 0.0846\n",
      "Epoch: 004/005 | Batch 400/468 | Cost: 0.0877\n",
      "Epoch: 004/005 | Batch 450/468 | Cost: 0.0867\n",
      "Epoch: 005/005 | Batch 000/468 | Cost: 0.0858\n",
      "Epoch: 005/005 | Batch 050/468 | Cost: 0.0889\n",
      "Epoch: 005/005 | Batch 100/468 | Cost: 0.0872\n",
      "Epoch: 005/005 | Batch 150/468 | Cost: 0.0837\n",
      "Epoch: 005/005 | Batch 200/468 | Cost: 0.0857\n",
      "Epoch: 005/005 | Batch 250/468 | Cost: 0.0852\n",
      "Epoch: 005/005 | Batch 300/468 | Cost: 0.0878\n",
      "Epoch: 005/005 | Batch 350/468 | Cost: 0.0857\n",
      "Epoch: 005/005 | Batch 400/468 | Cost: 0.0865\n",
      "Epoch: 005/005 | Batch 450/468 | Cost: 0.0858\n"
     ]
    }
   ],
   "source": [
    "from torch.autograd import Variable\n",
    "   \n",
    "\n",
    "for epoch in range(num_epochs):\n",
    "    for batch_idx, (features, targets) in enumerate(train_loader):\n",
    "        \n",
    "        # don't need labels, only the images (features)\n",
    "        features = Variable(features)\n",
    "\n",
    "        if torch.cuda.is_available():\n",
    "            features, targets = features.cuda(), targets.cuda()\n",
    "            \n",
    "        ### FORWARD AND BACK PROP\n",
    "        decoded = model(features)\n",
    "        cost = cost_fn(decoded, features)\n",
    "        optimizer.zero_grad()\n",
    "        \n",
    "        cost.backward()\n",
    "        \n",
    "        ### UPDATE MODEL PARAMETERS\n",
    "        optimizer.step()\n",
    "        \n",
    "        ### LOGGING\n",
    "        if not batch_idx % 50:\n",
    "            print ('Epoch: %03d/%03d | Batch %03d/%03d | Cost: %.4f' \n",
    "                   %(epoch+1, num_epochs, batch_idx, \n",
    "                     len(train_dataset)//batch_size, cost.data[0]))"
   ]
  },
  {
   "cell_type": "code",
   "execution_count": 5,
   "metadata": {},
   "outputs": [
    {
     "data": {
      "image/png": "[encoded data removed]",
      "text/plain": [
       "<matplotlib.figure.Figure at 0x18251de7b8>"
      ]
     },
     "metadata": {},
     "output_type": "display_data"
    }
   ],
   "source": [
    "%matplotlib inline\n",
    "import matplotlib.pyplot as plt\n",
    "\n",
    "##########################\n",
    "### VISUALIZATION\n",
    "##########################\n",
    "\n",
    "n_images = 15\n",
    "image_width = 28\n",
    "\n",
    "fig, axes = plt.subplots(nrows=2, ncols=n_images, \n",
    "                         sharex=True, sharey=True, figsize=(20, 2.5))\n",
    "orig_images = features.data.numpy()[:n_images]\n",
    "decoded_images = decoded.data.numpy()[:n_images]\n",
    "\n",
    "for i in range(n_images):\n",
    "    for ax, img in zip(axes, [orig_images, decoded_images]):\n",
    "        ax[i].imshow(img[i].reshape((image_width, image_width)), cmap='binary')"
   ]
  }
 ],
 "metadata": {
  "kernelspec": {
   "display_name": "Python 3",
   "language": "python",
   "name": "python3"
  },
  "language_info": {
   "codemirror_mode": {
    "name": "ipython",
    "version": 3
   },
   "file_extension": ".py",
   "mimetype": "text/x-python",
   "name": "python",
   "nbconvert_exporter": "python",
   "pygments_lexer": "ipython3",
   "version": "3.6.3"
  }
 },
 "nbformat": 4,
 "nbformat_minor": 2
}
